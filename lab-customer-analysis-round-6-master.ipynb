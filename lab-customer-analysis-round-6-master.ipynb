{
 "cells": [
  {
   "cell_type": "code",
   "execution_count": 1,
   "metadata": {},
   "outputs": [],
   "source": [
    "import pandas as pd\n",
    "import numpy as np\n",
    "pd.set_option('display.max_columns', None)\n",
    "import math\n",
    "import warnings\n",
    "warnings.filterwarnings('ignore')\n",
    "from sklearn import linear_model\n",
    "from sklearn.metrics import mean_squared_error, r2_score\n",
    "from sklearn.model_selection import train_test_split"
   ]
  },
  {
   "cell_type": "code",
   "execution_count": 3,
   "metadata": {},
   "outputs": [],
   "source": [
    "data = pd.read_csv('/Users/juliencarbonnell/Desktop/lab_files/marketing_customer_analysis.csv')"
   ]
  },
  {
   "cell_type": "code",
   "execution_count": null,
   "metadata": {},
   "outputs": [],
   "source": [
    "#processing data\n",
    "#one hot/label encoding (categorical)\n",
    "# get dummies pandas\n",
    "pd.get_dummies(X_cat, drop_first=True).head()"
   ]
  },
  {
   "cell_type": "code",
   "execution_count": null,
   "metadata": {},
   "outputs": [],
   "source": [
    "# sklearn\n",
    "\n",
    "from sklearn.preprocessing import OneHotEncoder\n",
    "\n",
    "pd.DataFrame(OneHotEncoder(drop='first').fit_transform(X_cat).toarray(),\n",
    "             columns=OneHotEncoder(drop='first').fit(X_cat).get_feature_names(input_features=X_cat.columns)).head()"
   ]
  },
  {
   "cell_type": "code",
   "execution_count": null,
   "metadata": {},
   "outputs": [],
   "source": [
    "#concat dataframes\n",
    "X_cat=pd.get_dummies(X_cat, drop_first=True)\n",
    "X=pd.concat([X_num, X_cat], axis=1) # concat numerical and categorical transformations\n",
    "X.head()"
   ]
  },
  {
   "cell_type": "code",
   "execution_count": null,
   "metadata": {},
   "outputs": [],
   "source": [
    "# Linear Regression\n",
    "#train-test split\n",
    "from sklearn.model_selection import train_test_split as tts\n",
    "\n",
    "X_train, X_test, y_train, y_test=tts(X, y, test_size=.2)"
   ]
  },
  {
   "cell_type": "code",
   "execution_count": null,
   "metadata": {},
   "outputs": [],
   "source": [
    "#Apply linear regression\n",
    "# statsmodels version\n",
    "\n",
    "import warnings\n",
    "warnings.simplefilter('ignore')\n",
    "\n",
    "import statsmodels.api as sm\n",
    "from statsmodels.formula.api import ols\n",
    "\n",
    "X_train_wi=sm.add_constant(X_train)\n",
    "model=sm.OLS(y_train,X_train_wi).fit()\n",
    "\n",
    "print(model.summary())"
   ]
  },
  {
   "cell_type": "code",
   "execution_count": null,
   "metadata": {},
   "outputs": [],
   "source": [
    "# sklearn version\n",
    "from sklearn.linear_model import LinearRegression as LinReg\n",
    "\n",
    "linreg=LinReg()    # model\n",
    "linreg.fit(X_train, y_train)   # model train\n",
    "y_pred_linreg=linreg.predict(X_test)   # model prediction"
   ]
  },
  {
   "cell_type": "code",
   "execution_count": null,
   "metadata": {},
   "outputs": [],
   "source": [
    "# Model Validation\n",
    "#R2\n",
    "print ('train R2: {} -- test R2: {}'.format(linreg.score(X_train, y_train),\n",
    "                                            linreg.score(X_test, y_test)))"
   ]
  },
  {
   "cell_type": "code",
   "execution_count": null,
   "metadata": {},
   "outputs": [],
   "source": [
    "#MSE\n",
    "from sklearn.metrics import mean_squared_error as mse\n",
    "\n",
    "\n",
    "train_mse=mse(linreg.predict(X_train), y_train)\n",
    "test_mse=mse(linreg.predict(X_test), y_test)\n",
    "\n",
    "print ('train MSE: {} -- test MSE: {}'.format(train_mse, test_mse))"
   ]
  },
  {
   "cell_type": "code",
   "execution_count": null,
   "metadata": {},
   "outputs": [],
   "source": [
    "#RMSE\n",
    "print ('train RMSE: {} -- test RMSE: {}'.format(train_mse**.5, test_mse**.5))"
   ]
  },
  {
   "cell_type": "code",
   "execution_count": null,
   "metadata": {},
   "outputs": [],
   "source": [
    "#MAE\n",
    "from sklearn.metrics import mean_absolute_error as mae\n",
    "\n",
    "train_mae=mae(linreg.predict(X_train), y_train)\n",
    "test_mae=mae(linreg.predict(X_test), y_test)\n",
    "\n",
    "print ('train MAE: {} -- test MAE: {}'.format(train_mse, test_mse))"
   ]
  },
  {
   "cell_type": "code",
   "execution_count": null,
   "metadata": {},
   "outputs": [],
   "source": []
  }
 ],
 "metadata": {
  "kernelspec": {
   "display_name": "Python 3",
   "language": "python",
   "name": "python3"
  },
  "language_info": {
   "codemirror_mode": {
    "name": "ipython",
    "version": 3
   },
   "file_extension": ".py",
   "mimetype": "text/x-python",
   "name": "python",
   "nbconvert_exporter": "python",
   "pygments_lexer": "ipython3",
   "version": "3.8.3"
  }
 },
 "nbformat": 4,
 "nbformat_minor": 4
}
